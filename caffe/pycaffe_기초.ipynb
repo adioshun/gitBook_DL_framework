{
 "cells": [
  {
   "cell_type": "markdown",
   "metadata": {
    "run_control": {
     "frozen": false,
     "read_only": false
    }
   },
   "source": [
    "# Deep learning tutorial on Caffe technology : basic commands, Python and C++ code.\n",
    "\n",
    "> 출처 : [Christopher Bourez's blog](http://christopher5106.github.io/deep/learning/2015/09/04/Deep-learning-tutorial-on-Caffe-Technology.html)"
   ]
  },
  {
   "cell_type": "code",
   "execution_count": 1,
   "metadata": {
    "ExecuteTime": {
     "end_time": "2017-08-04T19:26:29.148579Z",
     "start_time": "2017-08-04T19:26:23.172510Z"
    },
    "collapsed": true,
    "run_control": {
     "frozen": false,
     "read_only": false
    }
   },
   "outputs": [],
   "source": [
    "import caffe\n",
    "import numpy as np\n",
    "import matplotlib.pyplot as plt"
   ]
  },
  {
   "cell_type": "markdown",
   "metadata": {
    "run_control": {
     "frozen": false,
     "read_only": false
    }
   },
   "source": [
    "Set the computation mode CPU"
   ]
  },
  {
   "cell_type": "code",
   "execution_count": 2,
   "metadata": {
    "ExecuteTime": {
     "end_time": "2017-08-04T19:26:34.351924Z",
     "start_time": "2017-08-04T19:26:34.349848Z"
    },
    "collapsed": true,
    "run_control": {
     "frozen": false,
     "read_only": false
    }
   },
   "outputs": [],
   "source": [
    "#Set the computation mode CPU\n",
    "caffe.set_mode_cpu()"
   ]
  },
  {
   "cell_type": "markdown",
   "metadata": {
    "run_control": {
     "frozen": false,
     "read_only": false
    }
   },
   "source": [
    "## 사전에정의한 네트워크 모델 \n",
    "\n",
    "single convolution composed of 3 convolutional neurons, with kernel of size 5x5 and stride of 1\n",
    "\n"
   ]
  },
  {
   "cell_type": "code",
   "execution_count": 3,
   "metadata": {
    "ExecuteTime": {
     "end_time": "2017-08-04T19:26:37.250268Z",
     "start_time": "2017-08-04T19:26:37.053529Z"
    },
    "run_control": {
     "frozen": false,
     "read_only": false
    }
   },
   "outputs": [
    {
     "name": "stdout",
     "output_type": "stream",
     "text": [
      "name: \"convolution\"\r\n",
      "input: \"data\"\r\n",
      "input_dim: 1\r\n",
      "input_dim: 1\r\n",
      "input_dim: 100\r\n",
      "input_dim: 100\r\n",
      "layer {\r\n",
      "  name: \"conv\"\r\n",
      "  type: \"Convolution\"\r\n",
      "  bottom: \"data\"\r\n",
      "  top: \"conv\"\r\n",
      "  convolution_param {\r\n",
      "    num_output: 3\r\n",
      "    kernel_size: 5\r\n",
      "    stride: 1\r\n",
      "    weight_filler {\r\n",
      "      type: \"gaussian\"\r\n",
      "      std: 0.01\r\n",
      "    }\r\n",
      "    bias_filler {\r\n",
      "      type: \"constant\"\r\n",
      "      value: 0\r\n",
      "    }\r\n",
      "  }\r\n",
      "}\r\n"
     ]
    }
   ],
   "source": [
    "%cat conv.prototxt"
   ]
  },
  {
   "cell_type": "code",
   "execution_count": 17,
   "metadata": {
    "ExecuteTime": {
     "end_time": "2017-08-04T19:47:58.951884Z",
     "start_time": "2017-08-04T19:47:57.696372Z"
    },
    "run_control": {
     "frozen": false,
     "read_only": false
    }
   },
   "outputs": [
    {
     "name": "stdout",
     "output_type": "stream",
     "text": [
      "Drawing net to ./models/my_net.png\r\n"
     ]
    },
    {
     "data": {
      "image/png": "[encoded data removed]",
      "text/plain": [
       "<IPython.core.display.Image object>"
      ]
     },
     "execution_count": 17,
     "metadata": {},
     "output_type": "execute_result"
    }
   ],
   "source": [
    "!/home/adioshun/miniconda3/envs/pycaffe2/bin/python2.7 ./tools/caffe_tool_draw_net.py ./models/conv.prototxt ./models/my_net.png\n",
    "from IPython.display import Image \n",
    "Image(filename='./models/my_net.png')"
   ]
  },
  {
   "cell_type": "markdown",
   "metadata": {
    "run_control": {
     "frozen": false,
     "read_only": false
    }
   },
   "source": [
    "## 네트워크 모델 Load하기 "
   ]
  },
  {
   "cell_type": "code",
   "execution_count": 5,
   "metadata": {
    "ExecuteTime": {
     "end_time": "2017-08-04T19:27:31.683742Z",
     "start_time": "2017-08-04T19:27:31.630785Z"
    },
    "collapsed": true,
    "run_control": {
     "frozen": false,
     "read_only": false
    }
   },
   "outputs": [],
   "source": [
    "net = caffe.Net('./models/conv.prototxt', caffe.TEST)"
   ]
  },
  {
   "cell_type": "markdown",
   "metadata": {
    "run_control": {
     "frozen": false,
     "read_only": false
    }
   },
   "source": [
    "모델 정보 확인 하기 "
   ]
  },
  {
   "cell_type": "code",
   "execution_count": 6,
   "metadata": {
    "ExecuteTime": {
     "end_time": "2017-08-04T19:27:53.237260Z",
     "start_time": "2017-08-04T19:27:53.209281Z"
    },
    "run_control": {
     "frozen": false,
     "read_only": false
    }
   },
   "outputs": [
    {
     "name": "stdout",
     "output_type": "stream",
     "text": [
      "['data']\n"
     ]
    }
   ],
   "source": [
    "print (net.inputs ) #The names of input layers of the net"
   ]
  },
  {
   "cell_type": "code",
   "execution_count": 7,
   "metadata": {
    "ExecuteTime": {
     "end_time": "2017-08-04T19:27:53.817150Z",
     "start_time": "2017-08-04T19:27:53.812079Z"
    },
    "run_control": {
     "frozen": false,
     "read_only": false
    }
   },
   "outputs": [
    {
     "name": "stdout",
     "output_type": "stream",
     "text": [
      "OrderedDict([('data', <caffe._caffe.Blob object at 0x7f258cb07c08>), ('conv', <caffe._caffe.Blob object at 0x7f258cb07d70>)])\n",
      "\n",
      "<caffe._caffe.Blob object at 0x7f258cb07c08>\n",
      "<caffe._caffe.Blob object at 0x7f258cb07d70>\n",
      "\n",
      "[('data', (1, 1, 100, 100)), ('conv', (1, 3, 96, 96))]\n"
     ]
    }
   ],
   "source": [
    "print (net.blobs) #  input data and its propagation in the layers\n",
    "print()\n",
    "print(net.blobs['data']) #contains input data, an array of shape (1, 1, 100, 100)\n",
    "print(net.blobs['conv']) #contains computed data in layer ‘conv’ (1, 3, 96, 96)\n",
    "print()\n",
    "print([(k, v.data.shape) for k, v in net.blobs.items()])"
   ]
  },
  {
   "cell_type": "code",
   "execution_count": 8,
   "metadata": {
    "ExecuteTime": {
     "end_time": "2017-08-04T19:27:54.819219Z",
     "start_time": "2017-08-04T19:27:54.814427Z"
    },
    "run_control": {
     "frozen": false,
     "read_only": false
    }
   },
   "outputs": [
    {
     "name": "stdout",
     "output_type": "stream",
     "text": [
      "OrderedDict([('conv', <caffe._caffe.BlobVec object at 0x7f258ce2f2f0>)])\n",
      "\n",
      "<caffe._caffe.Blob object at 0x7f258cb078c0>\n",
      "<caffe._caffe.Blob object at 0x7f258cb078c0>\n",
      "\n",
      "[('conv', (3, 1, 5, 5), (3,))]\n",
      "\n",
      "(1, 3, 96, 96)\n"
     ]
    }
   ],
   "source": [
    "print(net.params) # a vector of blobs for weight and bias parameters\n",
    "print()\n",
    "print(net.params['conv'][0]) # contains the weight parameters, an array of shape (3, 1, 5, 5)\n",
    "print(net.params['conv'][1]) # contains the bias parameters, an array of shape (3,)\n",
    "print()\n",
    "print([(k, v[0].data.shape, v[1].data.shape) for k, v in net.params.items()])\n",
    "print()\n",
    "print(net.blobs['conv'].data.shape) # "
   ]
  },
  {
   "cell_type": "markdown",
   "metadata": {
    "run_control": {
     "frozen": false,
     "read_only": false
    }
   },
   "source": [
    "테스트 이미지 불러 오기"
   ]
  },
  {
   "cell_type": "code",
   "execution_count": 9,
   "metadata": {
    "ExecuteTime": {
     "end_time": "2017-08-04T19:28:23.481768Z",
     "start_time": "2017-08-04T19:28:23.240539Z"
    },
    "collapsed": true,
    "run_control": {
     "frozen": false,
     "read_only": false
    }
   },
   "outputs": [],
   "source": [
    "import PIL\n",
    "im = np.array(PIL.Image.open('./datasets/cat_gray.jpg'))\n",
    "im_input = im[np.newaxis, np.newaxis, :, :]\n"
   ]
  },
  {
   "cell_type": "code",
   "execution_count": 10,
   "metadata": {
    "ExecuteTime": {
     "end_time": "2017-08-04T19:28:40.781071Z",
     "start_time": "2017-08-04T19:28:40.778370Z"
    },
    "collapsed": true,
    "run_control": {
     "frozen": false,
     "read_only": false
    }
   },
   "outputs": [],
   "source": [
    "# We need to reshape the data blob (1, 1, 100, 100) to the new size (1, 1, 360, 480) to fit the image :\n",
    "net.blobs['data'].reshape(*im_input.shape)\n",
    "net.blobs['data'].data[...] = im_input"
   ]
  },
  {
   "cell_type": "code",
   "execution_count": 11,
   "metadata": {
    "ExecuteTime": {
     "end_time": "2017-08-04T19:28:44.143315Z",
     "start_time": "2017-08-04T19:28:44.071650Z"
    },
    "run_control": {
     "frozen": false,
     "read_only": false
    }
   },
   "outputs": [
    {
     "data": {
      "text/plain": [
       "{'conv': array([[[[ 0.82194054,  0.82857227,  0.94702429, ...,  1.74942231,\n",
       "            1.79648137,  1.77591491],\n",
       "          [ 0.85793048,  0.88702661,  0.90769809, ...,  1.8666923 ,\n",
       "            1.96834421,  1.88528454],\n",
       "          [ 0.92659354,  0.94043481,  0.86140835, ...,  2.00724459,\n",
       "            1.99890006,  1.99122   ],\n",
       "          ..., \n",
       "          [ 0.94752795,  1.05709207,  1.28409636, ...,  7.691998  ,\n",
       "            6.32445192,  5.86062622],\n",
       "          [ 1.0232929 ,  1.17744935,  1.29156184, ...,  7.07487202,\n",
       "            7.41349888,  6.26801968],\n",
       "          [ 1.06129897,  1.22492015,  1.27815449, ...,  6.77879667,\n",
       "            6.88334656,  6.98104286]],\n",
       " \n",
       "         [[ 0.0822024 ,  0.15182117,  0.21962987, ...,  0.02257956,\n",
       "            0.11707326,  0.19353023],\n",
       "          [ 0.14612596,  0.09275593,  0.15214884, ...,  0.05223754,\n",
       "            0.09313586,  0.20706335],\n",
       "          [ 0.20964506,  0.17827438,  0.12575838, ...,  0.04407001,\n",
       "            0.03104823,  0.14677249],\n",
       "          ..., \n",
       "          [ 0.14027919,  0.20362534,  0.22935328, ...,  1.67856908,\n",
       "            0.7438845 , -0.01034588],\n",
       "          [-0.08809722, -0.04833462,  0.08962123, ...,  0.47078216,\n",
       "            1.17485905,  1.50302613],\n",
       "          [ 0.03480875, -0.0380202 , -0.08221243, ...,  0.04530912,\n",
       "            0.57427591,  1.45053518]],\n",
       " \n",
       "         [[ 1.03501761,  1.17186916,  1.16979706, ...,  1.8059659 ,\n",
       "            1.89220262,  1.97419596],\n",
       "          [ 1.07196486,  1.08849645,  1.04639256, ...,  1.84480011,\n",
       "            1.93644929,  2.10434747],\n",
       "          [ 1.11642277,  1.10007751,  1.01969242, ...,  2.1187427 ,\n",
       "            2.05535936,  2.07272315],\n",
       "          ..., \n",
       "          [ 1.4881556 ,  1.56378913,  1.57309902, ...,  8.31151199,\n",
       "            8.60581779,  8.14703369],\n",
       "          [ 1.5455997 ,  1.50096178,  1.46568   , ...,  8.52962685,\n",
       "            9.03069496,  9.37433243],\n",
       "          [ 1.53984988,  1.32999122,  1.46240997, ...,  6.91291189,\n",
       "            7.35288811,  7.66114235]]]], dtype=float32)}"
      ]
     },
     "execution_count": 11,
     "metadata": {},
     "output_type": "execute_result"
    }
   ],
   "source": [
    "#Let’s compute the blobs given this input\n",
    "net.forward()"
   ]
  },
  {
   "cell_type": "code",
   "execution_count": 12,
   "metadata": {
    "ExecuteTime": {
     "end_time": "2017-08-04T19:28:48.058661Z",
     "start_time": "2017-08-04T19:28:48.056081Z"
    },
    "collapsed": true,
    "run_control": {
     "frozen": false,
     "read_only": false
    }
   },
   "outputs": [],
   "source": [
    "#To save the net parameters net.params, just call :\n",
    "\n",
    "net.save('./models/mymodel.caffemodel')"
   ]
  },
  {
   "cell_type": "markdown",
   "metadata": {
    "run_control": {
     "frozen": false,
     "read_only": false
    }
   },
   "source": [
    "# Load pretrained parameters to classify an image\n",
    "\n",
    ">미리 학습된 네트워크에 Input으로 고양이 이미지를 주고 예측 값 확인 \n",
    "\n",
    "\n",
    "- 목적에 따른 여러 모델들이 [Caffe Model Zoo,]에 저장 되어 있음 eg. 꽃 분류, 자동차 분류 등. \n",
    "- 각 모델 정보는 `Github Gist format`로 정의 되어 있음 \n",
    "- 파라미터는 `.caffemodel`에 저장되어 있음 \n",
    "\n",
    "caffe에서 제공하는 스크립트를 이용하여 모델들을 쉽게 다운 로드 할수 있음 \n",
    "- `./scripts/download_model_from_gist.sh <gist_id>`\n",
    "- `./scripts/download_model_binary.py <dirname>`\n",
    "\n",
    "본 실습에서는 다음 두 파일을 활용 하려 한다. \n",
    "- deploy.prototxt (네트워크 모델)\n",
    "- bvlc_reference_caffenet.caffemodel (네트워크 가중치 값)\n"
   ]
  },
  {
   "cell_type": "code",
   "execution_count": 32,
   "metadata": {
    "ExecuteTime": {
     "end_time": "2017-08-04T20:08:10.298644Z",
     "start_time": "2017-08-04T20:08:09.899968Z"
    },
    "run_control": {
     "frozen": false,
     "read_only": false
    }
   },
   "outputs": [
    {
     "name": "stdout",
     "output_type": "stream",
     "text": [
      "name: \"CaffeNet\"\r\n",
      "layer {\r\n",
      "  name: \"data\"\r\n",
      "  type: \"Input\"\r\n",
      "  top: \"data\"\r\n",
      "  input_param { shape: { dim: 10 dim: 3 dim: 227 dim: 227 } }\r\n",
      "}\r\n",
      "layer {\r\n",
      "  name: \"conv1\"\r\n",
      "  type: \"Convolution\"\r\n",
      "  bottom: \"data\"\r\n",
      "  top: \"conv1\"\r\n",
      "  convolution_param {\r\n",
      "    num_output: 96\r\n",
      "    kernel_size: 11\r\n",
      "    stride: 4\r\n",
      "  }\r\n",
      "}\r\n",
      "layer {\r\n",
      "  name: \"relu1\"\r\n",
      "  type: \"ReLU\"\r\n",
      "  bottom: \"conv1\"\r\n",
      "  top: \"conv1\"\r\n",
      "}\r\n",
      "layer {\r\n",
      "  name: \"pool1\"\r\n",
      "  type: \"Pooling\"\r\n",
      "  bottom: \"conv1\"\r\n",
      "  top: \"pool1\"\r\n",
      "  pooling_param {\r\n",
      "    pool: MAX\r\n",
      "    kernel_size: 3\r\n",
      "    stride: 2\r\n",
      "  }\r\n",
      "}\r\n",
      "layer {\r\n",
      "  name: \"norm1\"\r\n",
      "  type: \"LRN\"\r\n",
      "  bottom: \"pool1\"\r\n",
      "  top: \"norm1\"\r\n",
      "  lrn_param {\r\n",
      "    local_size: 5\r\n",
      "    alpha: 0.0001\r\n",
      "    beta: 0.75\r\n",
      "  }\r\n",
      "}\r\n",
      "layer {\r\n",
      "  name: \"conv2\"\r\n",
      "  type: \"Convolution\"\r\n",
      "  bottom: \"norm1\"\r\n",
      "  top: \"conv2\"\r\n",
      "  convolution_param {\r\n",
      "    num_output: 256\r\n",
      "    pad: 2\r\n",
      "    kernel_size: 5\r\n",
      "    group: 2\r\n",
      "  }\r\n",
      "}\r\n",
      "layer {\r\n",
      "  name: \"relu2\"\r\n",
      "  type: \"ReLU\"\r\n",
      "  bottom: \"conv2\"\r\n",
      "  top: \"conv2\"\r\n",
      "}\r\n",
      "layer {\r\n",
      "  name: \"pool2\"\r\n",
      "  type: \"Pooling\"\r\n",
      "  bottom: \"conv2\"\r\n",
      "  top: \"pool2\"\r\n",
      "  pooling_param {\r\n",
      "    pool: MAX\r\n",
      "    kernel_size: 3\r\n",
      "    stride: 2\r\n",
      "  }\r\n",
      "}\r\n",
      "layer {\r\n",
      "  name: \"norm2\"\r\n",
      "  type: \"LRN\"\r\n",
      "  bottom: \"pool2\"\r\n",
      "  top: \"norm2\"\r\n",
      "  lrn_param {\r\n",
      "    local_size: 5\r\n",
      "    alpha: 0.0001\r\n",
      "    beta: 0.75\r\n",
      "  }\r\n",
      "}\r\n",
      "layer {\r\n",
      "  name: \"conv3\"\r\n",
      "  type: \"Convolution\"\r\n",
      "  bottom: \"norm2\"\r\n",
      "  top: \"conv3\"\r\n",
      "  convolution_param {\r\n",
      "    num_output: 384\r\n",
      "    pad: 1\r\n",
      "    kernel_size: 3\r\n",
      "  }\r\n",
      "}\r\n",
      "layer {\r\n",
      "  name: \"relu3\"\r\n",
      "  type: \"ReLU\"\r\n",
      "  bottom: \"conv3\"\r\n",
      "  top: \"conv3\"\r\n",
      "}\r\n",
      "layer {\r\n",
      "  name: \"conv4\"\r\n",
      "  type: \"Convolution\"\r\n",
      "  bottom: \"conv3\"\r\n",
      "  top: \"conv4\"\r\n",
      "  convolution_param {\r\n",
      "    num_output: 384\r\n",
      "    pad: 1\r\n",
      "    kernel_size: 3\r\n",
      "    group: 2\r\n",
      "  }\r\n",
      "}\r\n",
      "layer {\r\n",
      "  name: \"relu4\"\r\n",
      "  type: \"ReLU\"\r\n",
      "  bottom: \"conv4\"\r\n",
      "  top: \"conv4\"\r\n",
      "}\r\n",
      "layer {\r\n",
      "  name: \"conv5\"\r\n",
      "  type: \"Convolution\"\r\n",
      "  bottom: \"conv4\"\r\n",
      "  top: \"conv5\"\r\n",
      "  convolution_param {\r\n",
      "    num_output: 256\r\n",
      "    pad: 1\r\n",
      "    kernel_size: 3\r\n",
      "    group: 2\r\n",
      "  }\r\n",
      "}\r\n",
      "layer {\r\n",
      "  name: \"relu5\"\r\n",
      "  type: \"ReLU\"\r\n",
      "  bottom: \"conv5\"\r\n",
      "  top: \"conv5\"\r\n",
      "}\r\n",
      "layer {\r\n",
      "  name: \"pool5\"\r\n",
      "  type: \"Pooling\"\r\n",
      "  bottom: \"conv5\"\r\n",
      "  top: \"pool5\"\r\n",
      "  pooling_param {\r\n",
      "    pool: MAX\r\n",
      "    kernel_size: 3\r\n",
      "    stride: 2\r\n",
      "  }\r\n",
      "}\r\n",
      "layer {\r\n",
      "  name: \"fc6\"\r\n",
      "  type: \"InnerProduct\"\r\n",
      "  bottom: \"pool5\"\r\n",
      "  top: \"fc6\"\r\n",
      "  inner_product_param {\r\n",
      "    num_output: 4096\r\n",
      "  }\r\n",
      "}\r\n",
      "layer {\r\n",
      "  name: \"relu6\"\r\n",
      "  type: \"ReLU\"\r\n",
      "  bottom: \"fc6\"\r\n",
      "  top: \"fc6\"\r\n",
      "}\r\n",
      "layer {\r\n",
      "  name: \"drop6\"\r\n",
      "  type: \"Dropout\"\r\n",
      "  bottom: \"fc6\"\r\n",
      "  top: \"fc6\"\r\n",
      "  dropout_param {\r\n",
      "    dropout_ratio: 0.5\r\n",
      "  }\r\n",
      "}\r\n",
      "layer {\r\n",
      "  name: \"fc7\"\r\n",
      "  type: \"InnerProduct\"\r\n",
      "  bottom: \"fc6\"\r\n",
      "  top: \"fc7\"\r\n",
      "  inner_product_param {\r\n",
      "    num_output: 4096\r\n",
      "  }\r\n",
      "}\r\n",
      "layer {\r\n",
      "  name: \"relu7\"\r\n",
      "  type: \"ReLU\"\r\n",
      "  bottom: \"fc7\"\r\n",
      "  top: \"fc7\"\r\n",
      "}\r\n",
      "layer {\r\n",
      "  name: \"drop7\"\r\n",
      "  type: \"Dropout\"\r\n",
      "  bottom: \"fc7\"\r\n",
      "  top: \"fc7\"\r\n",
      "  dropout_param {\r\n",
      "    dropout_ratio: 0.5\r\n",
      "  }\r\n",
      "}\r\n",
      "layer {\r\n",
      "  name: \"fc8\"\r\n",
      "  type: \"InnerProduct\"\r\n",
      "  bottom: \"fc7\"\r\n",
      "  top: \"fc8\"\r\n",
      "  inner_product_param {\r\n",
      "    num_output: 1000\r\n",
      "  }\r\n",
      "}\r\n",
      "layer {\r\n",
      "  name: \"prob\"\r\n",
      "  type: \"Softmax\"\r\n",
      "  bottom: \"fc8\"\r\n",
      "  top: \"prob\"\r\n",
      "}\r\n"
     ]
    }
   ],
   "source": [
    "!cat ./models/deploy.prototxt"
   ]
  },
  {
   "cell_type": "code",
   "execution_count": 31,
   "metadata": {
    "ExecuteTime": {
     "end_time": "2017-08-04T20:05:29.646361Z",
     "start_time": "2017-08-04T20:05:29.644243Z"
    },
    "collapsed": true,
    "run_control": {
     "frozen": false,
     "read_only": false
    }
   },
   "outputs": [],
   "source": [
    "#!cd ./models/;wget http://dl.caffe.berkeleyvision.org/bvlc_reference_caffenet.caffemodel\n",
    "#!cd ./models/;wget https://raw.githubusercontent.com/BVLC/caffe/master/models/bvlc_reference_caffenet/deploy.prototxt"
   ]
  },
  {
   "cell_type": "code",
   "execution_count": 30,
   "metadata": {
    "ExecuteTime": {
     "end_time": "2017-08-04T20:05:19.903063Z",
     "start_time": "2017-08-04T20:05:19.900894Z"
    },
    "collapsed": true,
    "run_control": {
     "frozen": false,
     "read_only": false
    }
   },
   "outputs": [],
   "source": [
    "# 모델 구조 살펴 보기 \n",
    "#!/home/adioshun/miniconda3/envs/pycaffe2/bin/python2.7 ./tools/caffe_tool_draw_net.py ./models/bclv_reference_caffenet/deploy.prototxt ./models/caffenet.png\n",
    "#from IPython.display import Image \n",
    "#Image(filename='./models/caffenet.png')"
   ]
  },
  {
   "cell_type": "code",
   "execution_count": 21,
   "metadata": {
    "ExecuteTime": {
     "end_time": "2017-08-04T19:55:42.607237Z",
     "start_time": "2017-08-04T19:55:11.465793Z"
    },
    "collapsed": true,
    "run_control": {
     "frozen": false,
     "read_only": false
    }
   },
   "outputs": [],
   "source": [
    "#네트워크모델과 가중치 정보 읽어 오기 load the model\n",
    "net = caffe.Net('./models/deploy.prototxt',\n",
    "                './models/bvlc_reference_caffenet.caffemodel',\n",
    "                caffe.TEST)"
   ]
  },
  {
   "cell_type": "code",
   "execution_count": 22,
   "metadata": {
    "ExecuteTime": {
     "end_time": "2017-08-04T19:58:32.024823Z",
     "start_time": "2017-08-04T19:58:31.374099Z"
    },
    "collapsed": true,
    "run_control": {
     "frozen": false,
     "read_only": false
    }
   },
   "outputs": [],
   "source": [
    "# load input and configure preprocessing\n",
    "transformer = caffe.io.Transformer({'data': net.blobs['data'].data.shape})\n",
    "transformer.set_mean('data', np.load('./datasets/ilsvrc_2012_mean.npy').mean(1).mean(1))\n",
    "transformer.set_transpose('data', (2,0,1))\n",
    "transformer.set_channel_swap('data', (2,1,0))\n",
    "transformer.set_raw_scale('data', 255.0)\n"
   ]
  },
  {
   "cell_type": "markdown",
   "metadata": {
    "run_control": {
     "frozen": false,
     "read_only": false
    }
   },
   "source": [
    "## 이미지 전처리 \n",
    "This model has been trained on processed images, so you need to preprocess the image with a preprocessor, before saving it in the blob."
   ]
  },
  {
   "cell_type": "code",
   "execution_count": 23,
   "metadata": {
    "ExecuteTime": {
     "end_time": "2017-08-04T19:59:08.819584Z",
     "start_time": "2017-08-04T19:59:08.814191Z"
    },
    "collapsed": true,
    "run_control": {
     "frozen": false,
     "read_only": false
    }
   },
   "outputs": [],
   "source": [
    "#note we can change the batch size on-the-fly\n",
    "#since we classify only one image, we change batch size from 10 to 1\n",
    "net.blobs['data'].reshape(1,3,227,227)"
   ]
  },
  {
   "cell_type": "code",
   "execution_count": 24,
   "metadata": {
    "ExecuteTime": {
     "end_time": "2017-08-04T19:59:55.776675Z",
     "start_time": "2017-08-04T19:59:53.615710Z"
    },
    "run_control": {
     "frozen": false,
     "read_only": false
    }
   },
   "outputs": [
    {
     "name": "stderr",
     "output_type": "stream",
     "text": [
      "/home/adioshun/miniconda3/envs/pycaffe2/lib/python2.7/site-packages/skimage/transform/_warps.py:84: UserWarning: The default mode, 'constant', will be changed to 'reflect' in skimage 0.15.\n",
      "  warn(\"The default mode, 'constant', will be changed to 'reflect' in \"\n"
     ]
    }
   ],
   "source": [
    "#load the image in the data layer\n",
    "im = caffe.io.load_image('datasets/cat.jpg')\n",
    "net.blobs['data'].data[...] = transformer.preprocess('data', im)"
   ]
  },
  {
   "cell_type": "code",
   "execution_count": 25,
   "metadata": {
    "ExecuteTime": {
     "end_time": "2017-08-04T20:00:04.283571Z",
     "start_time": "2017-08-04T20:00:02.431005Z"
    },
    "collapsed": true,
    "run_control": {
     "frozen": false,
     "read_only": false
    }
   },
   "outputs": [],
   "source": [
    "#compute\n",
    "out = net.forward()\n",
    "# other possibility : out = net.forward_all(data=np.asarray([transformer.preprocess('data', im)]))\n"
   ]
  },
  {
   "cell_type": "code",
   "execution_count": 27,
   "metadata": {
    "ExecuteTime": {
     "end_time": "2017-08-04T20:00:21.227410Z",
     "start_time": "2017-08-04T20:00:21.204040Z"
    },
    "run_control": {
     "frozen": false,
     "read_only": false
    }
   },
   "outputs": [
    {
     "name": "stdout",
     "output_type": "stream",
     "text": [
      "281\n"
     ]
    }
   ],
   "source": [
    "#predicted predicted class\n",
    "print(out['prob'].argmax())"
   ]
  },
  {
   "cell_type": "code",
   "execution_count": 29,
   "metadata": {
    "ExecuteTime": {
     "end_time": "2017-08-04T20:01:12.316149Z",
     "start_time": "2017-08-04T20:01:12.161954Z"
    },
    "run_control": {
     "frozen": false,
     "read_only": false
    }
   },
   "outputs": [
    {
     "name": "stdout",
     "output_type": "stream",
     "text": [
      "['n02123045 tabby, tabby cat' 'n02123159 tiger cat'\n",
      " 'n02124075 Egyptian cat' 'n02119022 red fox, Vulpes vulpes'\n",
      " 'n02127052 lynx, catamount']\n"
     ]
    }
   ],
   "source": [
    "#print predicted labels\n",
    "labels = np.loadtxt(\"datasets/synset_words.txt\", str, delimiter='\\t')\n",
    "top_k = net.blobs['prob'].data[0].flatten().argsort()[-1:-6:-1]\n",
    "print(labels[top_k])"
   ]
  },
  {
   "cell_type": "markdown",
   "metadata": {
    "run_control": {
     "frozen": false,
     "read_only": false
    }
   },
   "source": [
    "Go further : [Create a classification map with net surgery to insert a trained model into an extended model where convolutions will be innerproducts spatially](http://nbviewer.ipython.org/github/BVLC/caffe/blob/master/examples/net_surgery.ipynb)"
   ]
  },
  {
   "cell_type": "markdown",
   "metadata": {
    "run_control": {
     "frozen": false,
     "read_only": false
    }
   },
   "source": [
    "# Learn : solve the params on training data\n",
    "\n",
    "It is now time to create your own model, and training the parameters on training data.\n",
    "\n",
    "To train a network, you need\n",
    "\n",
    "- its model definition, as seen previously\n",
    "\n",
    "- a second protobuf file, the solver file, describing the parameters for the stochastic gradient."
   ]
  },
  {
   "cell_type": "markdown",
   "metadata": {
    "run_control": {
     "frozen": false,
     "read_only": false
    }
   },
   "source": [
    "### 1. 네트워크 모델 생성 `.prototxt`\n",
    "\n",
    "- 학습용 & 테스트용 모델을 따로 만들거나 \n",
    "\n",
    "```\n",
    "train_net: \"examples/hdf5_classification/nonlinear_auto_train.prototxt\"\n",
    "test_net: \"examples/hdf5_classification/nonlinear_auto_test.prototxt\"\n",
    "```\n",
    "\n",
    "- 하나를 만들고 `phase: TRAIN / phase: TEST`로 구분 하여 사용 가능 , `soruce`를 통해 학습/테스트용 데이터 위치도 지정 가능 \n",
    "\n",
    "```python\n",
    "layer {\n",
    "  name: \"data\"\n",
    "  type: \"Data\"\n",
    "  top: \"data\"\n",
    "  top: \"label\"\n",
    "  include {\n",
    "    phase: TRAIN\n",
    "  }\n",
    "  data_param {\n",
    "    source: \"examples/imagenet/ilsvrc12_train_lmdb\"\n",
    "    batch_size: 256\n",
    "    backend: LMDB\n",
    "  }\n",
    "}\n",
    "\n",
    "```"
   ]
  },
  {
   "cell_type": "markdown",
   "metadata": {
    "run_control": {
     "frozen": false,
     "read_only": false
    }
   },
   "source": [
    "## 2. 학습 설정 정보 생성 `solver.prototxt`"
   ]
  },
  {
   "cell_type": "code",
   "execution_count": 33,
   "metadata": {
    "ExecuteTime": {
     "end_time": "2017-08-04T20:20:14.944871Z",
     "start_time": "2017-08-04T20:20:14.207483Z"
    },
    "run_control": {
     "frozen": false,
     "read_only": false
    }
   },
   "outputs": [
    {
     "name": "stdout",
     "output_type": "stream",
     "text": [
      "--2017-08-04 16:20:14--  https://raw.githubusercontent.com/BVLC/caffe/master/models/bvlc_reference_caffenet/solver.prototxt\n",
      "Resolving raw.githubusercontent.com (raw.githubusercontent.com)... 151.101.64.133, 151.101.128.133, 151.101.192.133, ...\n",
      "Connecting to raw.githubusercontent.com (raw.githubusercontent.com)|151.101.64.133|:443... connected.\n",
      "HTTP request sent, awaiting response... 200 OK\n",
      "Length: 315 [text/plain]\n",
      "Saving to: ‘solver.prototxt’\n",
      "\n",
      "solver.prototxt     100%[===================>]     315  --.-KB/s    in 0s      \n",
      "\n",
      "2017-08-04 16:20:14 (59.9 MB/s) - ‘solver.prototxt’ saved [315/315]\n",
      "\n",
      "net: \"models/bvlc_reference_caffenet/train_val.prototxt\"\n",
      "test_iter: 1000\n",
      "test_interval: 1000\n",
      "base_lr: 0.01\n",
      "lr_policy: \"step\"\n",
      "gamma: 0.1\n",
      "stepsize: 100000\n",
      "display: 20\n",
      "max_iter: 450000\n",
      "momentum: 0.9\n",
      "weight_decay: 0.0005\n",
      "snapshot: 10000\n",
      "snapshot_prefix: \"models/bvlc_reference_caffenet/caffenet_train\"\n",
      "solver_mode: GPU\n"
     ]
    }
   ],
   "source": [
    "!cd models; wget https://raw.githubusercontent.com/BVLC/caffe/master/models/bvlc_reference_caffenet/solver.prototxt\n",
    "!cat ./models/solver.prototxt\n",
    "solver = caffe.get_solver('./models/solver.prototxt') # Default로  SGD solver 사용 \n",
    "# solver = caffe.SGDSolver('models/bvlc_reference_caffenet/solver.prototxt') #이처럼  SGD solver로 직접 지정할수도 있음 "
   ]
  },
  {
   "cell_type": "code",
   "execution_count": 35,
   "metadata": {
    "ExecuteTime": {
     "end_time": "2017-08-04T20:24:43.103536Z",
     "start_time": "2017-08-04T20:24:42.811217Z"
    },
    "run_control": {
     "frozen": false,
     "read_only": false
    }
   },
   "outputs": [
    {
     "name": "stdout",
     "output_type": "stream",
     "text": [
      "--2017-08-04 16:24:42--  https://raw.githubusercontent.com/BVLC/caffe/master/models/bvlc_reference_caffenet/train_val.prototxt\n",
      "Resolving raw.githubusercontent.com (raw.githubusercontent.com)... 151.101.44.133\n",
      "Connecting to raw.githubusercontent.com (raw.githubusercontent.com)|151.101.44.133|:443... connected.\n",
      "HTTP request sent, awaiting response... 200 OK\n",
      "Length: 5707 (5.6K) [text/plain]\n",
      "Saving to: ‘train_val.prototxt.2’\n",
      "\n",
      "train_val.prototxt. 100%[===================>]   5.57K  --.-KB/s    in 0s      \n",
      "\n",
      "2017-08-04 16:24:42 (45.0 MB/s) - ‘train_val.prototxt.2’ saved [5707/5707]\n",
      "\n",
      "name: \"CaffeNet\"\n",
      "layer {\n",
      "  name: \"data\"\n",
      "  type: \"Data\"\n",
      "  top: \"data\"\n",
      "  top: \"label\"\n",
      "  include {\n",
      "    phase: TRAIN\n",
      "  }\n",
      "  transform_param {\n",
      "    mirror: true\n",
      "    crop_size: 227\n",
      "    mean_file: \"data/ilsvrc12/imagenet_mean.binaryproto\"\n",
      "  }\n",
      "# mean pixel / channel-wise mean instead of mean image\n",
      "#  transform_param {\n",
      "#    crop_size: 227\n",
      "#    mean_value: 104\n",
      "#    mean_value: 117\n",
      "#    mean_value: 123\n",
      "#    mirror: true\n",
      "#  }\n",
      "  data_param {\n",
      "    source: \"examples/imagenet/ilsvrc12_train_lmdb\"\n",
      "    batch_size: 256\n",
      "    backend: LMDB\n",
      "  }\n",
      "}\n",
      "layer {\n",
      "  name: \"data\"\n",
      "  type: \"Data\"\n",
      "  top: \"data\"\n",
      "  top: \"label\"\n",
      "  include {\n",
      "    phase: TEST\n",
      "  }\n",
      "  transform_param {\n",
      "    mirror: false\n",
      "    crop_size: 227\n",
      "    mean_file: \"data/ilsvrc12/imagenet_mean.binaryproto\"\n",
      "  }\n",
      "# mean pixel / channel-wise mean instead of mean image\n",
      "#  transform_param {\n",
      "#    crop_size: 227\n",
      "#    mean_value: 104\n",
      "#    mean_value: 117\n",
      "#    mean_value: 123\n",
      "#    mirror: false\n",
      "#  }\n",
      "  data_param {\n",
      "    source: \"examples/imagenet/ilsvrc12_val_lmdb\"\n",
      "    batch_size: 50\n",
      "    backend: LMDB\n",
      "  }\n",
      "}\n",
      "layer {\n",
      "  name: \"conv1\"\n",
      "  type: \"Convolution\"\n",
      "  bottom: \"data\"\n",
      "  top: \"conv1\"\n",
      "  param {\n",
      "    lr_mult: 1\n",
      "    decay_mult: 1\n",
      "  }\n",
      "  param {\n",
      "    lr_mult: 2\n",
      "    decay_mult: 0\n",
      "  }\n",
      "  convolution_param {\n",
      "    num_output: 96\n",
      "    kernel_size: 11\n",
      "    stride: 4\n",
      "    weight_filler {\n",
      "      type: \"gaussian\"\n",
      "      std: 0.01\n",
      "    }\n",
      "    bias_filler {\n",
      "      type: \"constant\"\n",
      "      value: 0\n",
      "    }\n",
      "  }\n",
      "}\n",
      "layer {\n",
      "  name: \"relu1\"\n",
      "  type: \"ReLU\"\n",
      "  bottom: \"conv1\"\n",
      "  top: \"conv1\"\n",
      "}\n",
      "layer {\n",
      "  name: \"pool1\"\n",
      "  type: \"Pooling\"\n",
      "  bottom: \"conv1\"\n",
      "  top: \"pool1\"\n",
      "  pooling_param {\n",
      "    pool: MAX\n",
      "    kernel_size: 3\n",
      "    stride: 2\n",
      "  }\n",
      "}\n",
      "layer {\n",
      "  name: \"norm1\"\n",
      "  type: \"LRN\"\n",
      "  bottom: \"pool1\"\n",
      "  top: \"norm1\"\n",
      "  lrn_param {\n",
      "    local_size: 5\n",
      "    alpha: 0.0001\n",
      "    beta: 0.75\n",
      "  }\n",
      "}\n",
      "layer {\n",
      "  name: \"conv2\"\n",
      "  type: \"Convolution\"\n",
      "  bottom: \"norm1\"\n",
      "  top: \"conv2\"\n",
      "  param {\n",
      "    lr_mult: 1\n",
      "    decay_mult: 1\n",
      "  }\n",
      "  param {\n",
      "    lr_mult: 2\n",
      "    decay_mult: 0\n",
      "  }\n",
      "  convolution_param {\n",
      "    num_output: 256\n",
      "    pad: 2\n",
      "    kernel_size: 5\n",
      "    group: 2\n",
      "    weight_filler {\n",
      "      type: \"gaussian\"\n",
      "      std: 0.01\n",
      "    }\n",
      "    bias_filler {\n",
      "      type: \"constant\"\n",
      "      value: 1\n",
      "    }\n",
      "  }\n",
      "}\n",
      "layer {\n",
      "  name: \"relu2\"\n",
      "  type: \"ReLU\"\n",
      "  bottom: \"conv2\"\n",
      "  top: \"conv2\"\n",
      "}\n",
      "layer {\n",
      "  name: \"pool2\"\n",
      "  type: \"Pooling\"\n",
      "  bottom: \"conv2\"\n",
      "  top: \"pool2\"\n",
      "  pooling_param {\n",
      "    pool: MAX\n",
      "    kernel_size: 3\n",
      "    stride: 2\n",
      "  }\n",
      "}\n",
      "layer {\n",
      "  name: \"norm2\"\n",
      "  type: \"LRN\"\n",
      "  bottom: \"pool2\"\n",
      "  top: \"norm2\"\n",
      "  lrn_param {\n",
      "    local_size: 5\n",
      "    alpha: 0.0001\n",
      "    beta: 0.75\n",
      "  }\n",
      "}\n",
      "layer {\n",
      "  name: \"conv3\"\n",
      "  type: \"Convolution\"\n",
      "  bottom: \"norm2\"\n",
      "  top: \"conv3\"\n",
      "  param {\n",
      "    lr_mult: 1\n",
      "    decay_mult: 1\n",
      "  }\n",
      "  param {\n",
      "    lr_mult: 2\n",
      "    decay_mult: 0\n",
      "  }\n",
      "  convolution_param {\n",
      "    num_output: 384\n",
      "    pad: 1\n",
      "    kernel_size: 3\n",
      "    weight_filler {\n",
      "      type: \"gaussian\"\n",
      "      std: 0.01\n",
      "    }\n",
      "    bias_filler {\n",
      "      type: \"constant\"\n",
      "      value: 0\n",
      "    }\n",
      "  }\n",
      "}\n",
      "layer {\n",
      "  name: \"relu3\"\n",
      "  type: \"ReLU\"\n",
      "  bottom: \"conv3\"\n",
      "  top: \"conv3\"\n",
      "}\n",
      "layer {\n",
      "  name: \"conv4\"\n",
      "  type: \"Convolution\"\n",
      "  bottom: \"conv3\"\n",
      "  top: \"conv4\"\n",
      "  param {\n",
      "    lr_mult: 1\n",
      "    decay_mult: 1\n",
      "  }\n",
      "  param {\n",
      "    lr_mult: 2\n",
      "    decay_mult: 0\n",
      "  }\n",
      "  convolution_param {\n",
      "    num_output: 384\n",
      "    pad: 1\n",
      "    kernel_size: 3\n",
      "    group: 2\n",
      "    weight_filler {\n",
      "      type: \"gaussian\"\n",
      "      std: 0.01\n",
      "    }\n",
      "    bias_filler {\n",
      "      type: \"constant\"\n",
      "      value: 1\n",
      "    }\n",
      "  }\n",
      "}\n",
      "layer {\n",
      "  name: \"relu4\"\n",
      "  type: \"ReLU\"\n",
      "  bottom: \"conv4\"\n",
      "  top: \"conv4\"\n",
      "}\n",
      "layer {\n",
      "  name: \"conv5\"\n",
      "  type: \"Convolution\"\n",
      "  bottom: \"conv4\"\n",
      "  top: \"conv5\"\n",
      "  param {\n",
      "    lr_mult: 1\n",
      "    decay_mult: 1\n",
      "  }\n",
      "  param {\n",
      "    lr_mult: 2\n",
      "    decay_mult: 0\n",
      "  }\n",
      "  convolution_param {\n",
      "    num_output: 256\n",
      "    pad: 1\n",
      "    kernel_size: 3\n",
      "    group: 2\n",
      "    weight_filler {\n",
      "      type: \"gaussian\"\n",
      "      std: 0.01\n",
      "    }\n",
      "    bias_filler {\n",
      "      type: \"constant\"\n",
      "      value: 1\n",
      "    }\n",
      "  }\n",
      "}\n",
      "layer {\n",
      "  name: \"relu5\"\n",
      "  type: \"ReLU\"\n",
      "  bottom: \"conv5\"\n",
      "  top: \"conv5\"\n",
      "}\n",
      "layer {\n",
      "  name: \"pool5\"\n",
      "  type: \"Pooling\"\n",
      "  bottom: \"conv5\"\n",
      "  top: \"pool5\"\n",
      "  pooling_param {\n",
      "    pool: MAX\n",
      "    kernel_size: 3\n",
      "    stride: 2\n",
      "  }\n",
      "}\n",
      "layer {\n",
      "  name: \"fc6\"\n",
      "  type: \"InnerProduct\"\n",
      "  bottom: \"pool5\"\n",
      "  top: \"fc6\"\n",
      "  param {\n",
      "    lr_mult: 1\n",
      "    decay_mult: 1\n",
      "  }\n",
      "  param {\n",
      "    lr_mult: 2\n",
      "    decay_mult: 0\n",
      "  }\n",
      "  inner_product_param {\n",
      "    num_output: 4096\n",
      "    weight_filler {\n",
      "      type: \"gaussian\"\n",
      "      std: 0.005\n",
      "    }\n",
      "    bias_filler {\n",
      "      type: \"constant\"\n",
      "      value: 1\n",
      "    }\n",
      "  }\n",
      "}\n",
      "layer {\n",
      "  name: \"relu6\"\n",
      "  type: \"ReLU\"\n",
      "  bottom: \"fc6\"\n",
      "  top: \"fc6\"\n",
      "}\n",
      "layer {\n",
      "  name: \"drop6\"\n",
      "  type: \"Dropout\"\n",
      "  bottom: \"fc6\"\n",
      "  top: \"fc6\"\n",
      "  dropout_param {\n",
      "    dropout_ratio: 0.5\n",
      "  }\n",
      "}\n",
      "layer {\n",
      "  name: \"fc7\"\n",
      "  type: \"InnerProduct\"\n",
      "  bottom: \"fc6\"\n",
      "  top: \"fc7\"\n",
      "  param {\n",
      "    lr_mult: 1\n",
      "    decay_mult: 1\n",
      "  }\n",
      "  param {\n",
      "    lr_mult: 2\n",
      "    decay_mult: 0\n",
      "  }\n",
      "  inner_product_param {\n",
      "    num_output: 4096\n",
      "    weight_filler {\n",
      "      type: \"gaussian\"\n",
      "      std: 0.005\n",
      "    }\n",
      "    bias_filler {\n",
      "      type: \"constant\"\n",
      "      value: 1\n",
      "    }\n",
      "  }\n",
      "}\n",
      "layer {\n",
      "  name: \"relu7\"\n",
      "  type: \"ReLU\"\n",
      "  bottom: \"fc7\"\n",
      "  top: \"fc7\"\n",
      "}\n",
      "layer {\n",
      "  name: \"drop7\"\n",
      "  type: \"Dropout\"\n",
      "  bottom: \"fc7\"\n",
      "  top: \"fc7\"\n",
      "  dropout_param {\n",
      "    dropout_ratio: 0.5\n",
      "  }\n",
      "}\n",
      "layer {\n",
      "  name: \"fc8\"\n",
      "  type: \"InnerProduct\"\n",
      "  bottom: \"fc7\"\n",
      "  top: \"fc8\"\n",
      "  param {\n",
      "    lr_mult: 1\n",
      "    decay_mult: 1\n",
      "  }\n",
      "  param {\n",
      "    lr_mult: 2\n",
      "    decay_mult: 0\n",
      "  }\n",
      "  inner_product_param {\n",
      "    num_output: 1000\n",
      "    weight_filler {\n",
      "      type: \"gaussian\"\n",
      "      std: 0.01\n",
      "    }\n",
      "    bias_filler {\n",
      "      type: \"constant\"\n",
      "      value: 0\n",
      "    }\n",
      "  }\n",
      "}\n",
      "layer {\n",
      "  name: \"accuracy\"\n",
      "  type: \"Accuracy\"\n",
      "  bottom: \"fc8\"\n",
      "  bottom: \"label\"\n",
      "  top: \"accuracy\"\n",
      "  include {\n",
      "    phase: TEST\n",
      "  }\n",
      "}\n",
      "layer {\n",
      "  name: \"loss\"\n",
      "  type: \"SoftmaxWithLoss\"\n",
      "  bottom: \"fc8\"\n",
      "  bottom: \"label\"\n",
      "  top: \"loss\"\n",
      "}\n"
     ]
    }
   ],
   "source": [
    "# solver.prototxt에서 사용하는 파일 다운 로드 \n",
    "!cd ./models/bvlc_reference_caffenet/;wget https://raw.githubusercontent.com/BVLC/caffe/master/models/bvlc_reference_caffenet/train_val.prototxt\n",
    "!cat ./models/bvlc_reference_caffenet/train_val.prototxt    \n",
    "    "
   ]
  },
  {
   "cell_type": "code",
   "execution_count": 36,
   "metadata": {
    "ExecuteTime": {
     "end_time": "2017-08-04T20:29:23.132064Z",
     "start_time": "2017-08-04T20:29:22.155547Z"
    },
    "run_control": {
     "frozen": false,
     "read_only": false
    }
   },
   "outputs": [
    {
     "ename": "NameError",
     "evalue": "name 'solver' is not defined",
     "output_type": "error",
     "traceback": [
      "\u001b[0;31m---------------------------------------------------------------------------\u001b[0m",
      "\u001b[0;31mNameError\u001b[0m                                 Traceback (most recent call last)",
      "\u001b[0;32m<ipython-input-36-3ed89e34ac5c>\u001b[0m in \u001b[0;36m<module>\u001b[0;34m()\u001b[0m\n\u001b[0;32m----> 1\u001b[0;31m \u001b[0msolver\u001b[0m\u001b[0;34m.\u001b[0m\u001b[0mnet\u001b[0m\u001b[0;34m.\u001b[0m\u001b[0mforward\u001b[0m\u001b[0;34m(\u001b[0m\u001b[0;34m)\u001b[0m  \u001b[0;31m# train net\u001b[0m\u001b[0;34m\u001b[0m\u001b[0m\n\u001b[0m",
      "\u001b[0;31mNameError\u001b[0m: name 'solver' is not defined"
     ]
    }
   ],
   "source": [
    "solver.net.forward()  # train net"
   ]
  },
  {
   "cell_type": "markdown",
   "metadata": {
    "collapsed": true,
    "run_control": {
     "frozen": false,
     "read_only": false
    }
   },
   "source": [
    "Now, it’s time to begin to see if everything works well and to fill the layers in a forward propagation in the net (computation of net.blobs[k].data from input layer until the loss layer) :"
   ]
  },
  {
   "cell_type": "code",
   "execution_count": null,
   "metadata": {
    "collapsed": true
   },
   "outputs": [],
   "source": [
    "solver.net.forward()  # train net\n",
    "solver.test_nets[0].forward()  # test net (there can be more than one)"
   ]
  },
  {
   "cell_type": "markdown",
   "metadata": {},
   "source": [
    "For the computation of the gradients (computation of the net.blobs[k].diff and net.params[k][j].diff from the loss layer until input layer) :"
   ]
  },
  {
   "cell_type": "code",
   "execution_count": null,
   "metadata": {
    "collapsed": true
   },
   "outputs": [],
   "source": [
    "solver.net.backward()"
   ]
  },
  {
   "cell_type": "markdown",
   "metadata": {},
   "source": [
    "To launch one step of the gradient descent, that is a forward propagation, a backward propagation and the update of the net params given the gradients (update of the net.params[k][j].data) :"
   ]
  },
  {
   "cell_type": "code",
   "execution_count": null,
   "metadata": {
    "collapsed": true
   },
   "outputs": [],
   "source": [
    "solver.step(1)"
   ]
  },
  {
   "cell_type": "markdown",
   "metadata": {},
   "source": [
    "To run the full gradient descent, that is the max_iter steps :"
   ]
  },
  {
   "cell_type": "code",
   "execution_count": null,
   "metadata": {
    "collapsed": true
   },
   "outputs": [],
   "source": [
    "solver.solve()"
   ]
  }
 ],
 "metadata": {
  "hide_input": false,
  "kernelspec": {
   "display_name": "Python 2",
   "language": "python",
   "name": "python2"
  },
  "language_info": {
   "codemirror_mode": {
    "name": "ipython",
    "version": 2
   },
   "file_extension": ".py",
   "mimetype": "text/x-python",
   "name": "python",
   "nbconvert_exporter": "python",
   "pygments_lexer": "ipython2",
   "version": "2.7.13"
  },
  "varInspector": {
   "cols": {
    "lenName": 16,
    "lenType": 16,
    "lenVar": 40
   },
   "kernels_config": {
    "python": {
     "delete_cmd_postfix": "",
     "delete_cmd_prefix": "del ",
     "library": "var_list.py",
     "varRefreshCmd": "print(var_dic_list())"
    },
    "r": {
     "delete_cmd_postfix": ") ",
     "delete_cmd_prefix": "rm(",
     "library": "var_list.r",
     "varRefreshCmd": "cat(var_dic_list()) "
    }
   },
   "position": {
    "height": "424px",
    "left": "1510px",
    "right": "20px",
    "top": "120px",
    "width": "352px"
   },
   "types_to_exclude": [
    "module",
    "function",
    "builtin_function_or_method",
    "instance",
    "_Feature"
   ],
   "window_display": true
  }
 },
 "nbformat": 4,
 "nbformat_minor": 2
}
